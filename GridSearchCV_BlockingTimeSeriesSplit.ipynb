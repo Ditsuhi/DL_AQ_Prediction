{
  "nbformat": 4,
  "nbformat_minor": 0,
  "metadata": {
    "colab": {
      "name": "GridSearchCV_BlockingTimeSeriesSplit.ipynb",
      "provenance": [],
      "collapsed_sections": [],
      "authorship_tag": "ABX9TyMU3Uw/9ZNQEdgsGetVVP0q",
      "include_colab_link": true
    },
    "kernelspec": {
      "name": "python3",
      "display_name": "Python 3"
    },
    "language_info": {
      "name": "python"
    }
  },
  "cells": [
    {
      "cell_type": "markdown",
      "metadata": {
        "id": "view-in-github",
        "colab_type": "text"
      },
      "source": [
        "<a href=\"https://colab.research.google.com/github/Ditsuhi/Nitrogen_Dioxide_Prediction/blob/main/GridSearchCV_BlockingTimeSeriesSplit.ipynb\" target=\"_parent\"><img src=\"https://colab.research.google.com/assets/colab-badge.svg\" alt=\"Open In Colab\"/></a>"
      ]
    },
    {
      "cell_type": "code",
      "execution_count": null,
      "metadata": {
        "id": "V_ZmEASiCFXt"
      },
      "outputs": [],
      "source": [
        "# In the following two cells are the code for parameter optimisation.\n",
        "# First of all, the class was created in order to split data.\n",
        "\n",
        "class BlockingTimeSeriesSplit():\n",
        "    def __init__(self, n_splits):\n",
        "        self.n_splits = n_splits\n",
        "    \n",
        "    def get_n_splits(self, X, y, groups):\n",
        "        return self.n_splits\n",
        "    \n",
        "    def split(self, X, y=None, groups=None):\n",
        "        n_samples = len(X)\n",
        "        k_fold_size = n_samples // self.n_splits\n",
        "        indices = np.arange(n_samples)\n",
        "\n",
        "        margin = 0\n",
        "        for i in range(self.n_splits):\n",
        "            start = i * k_fold_size\n",
        "            stop = start + k_fold_size\n",
        "            mid = int(0.8 * (stop - start)) + start\n",
        "            yield indices[start: mid], indices[mid + margin: stop]"
      ]
    },
    {
      "cell_type": "code",
      "source": [
        "from sklearn.model_selection import GridSearchCV\n",
        "from keras.wrappers.scikit_learn import KerasRegressor\n",
        "from keras.callbacks import EarlyStopping\n",
        "\n",
        "\n",
        "btscv = BlockingTimeSeriesSplit(n_splits=3)\n",
        "\n",
        "#create_model is the model architecture\n",
        "model = KerasRegressor(build_fn=create_model, verbose=0)\n",
        "\n",
        "\n",
        "#define the grid search parameters\n",
        "\n",
        "\n",
        "optimizer = ['RMSprop',  'Adam']\n",
        "kernel_size = [(3, 3), (5, 5), (7, 7), (9, 9)]\n",
        "filters= [8, 16, 32]\n",
        "merge_mode=['sum', 'concat', 'ave', 'mul']\n",
        "number of Layers = [2, 3, 4]\n",
        "\n",
        "\n",
        "es = EarlyStopping(monitor='val_loss', mode='min', verbose=1, patience=5, restore_best_weights=True)\n",
        "param_grid = dict(filters=filters,  kernel_size=kernel_size, optimizer=optimizer, merge_mode= merge_mode)\n",
        "grid = GridSearchCV(estimator=model, param_grid=param_grid, cv=btscv)\n",
        "grid_result = grid.fit(X_train_reshaped, y_train_reshaped, epochs = 20)\n",
        "\n",
        "# summarize results\n",
        "print(\"Best: %f using %s\" % (grid_result.best_score_, grid_result.best_params_))\n",
        "means = grid_result.cv_results_['mean_test_score']\n",
        "stds = grid_result.cv_results_['std_test_score']\n",
        "params = grid_result.cv_results_['params']\n",
        "for mean, stdev, param in zip(means, stds, params):\n",
        "    print(\"%f (%f) with: %r\" % (mean, stdev, param))"
      ],
      "metadata": {
        "id": "4fAtcFaHCXc5"
      },
      "execution_count": null,
      "outputs": []
    }
  ]
}