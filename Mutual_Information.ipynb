{
  "nbformat": 4,
  "nbformat_minor": 0,
  "metadata": {
    "colab": {
      "name": "Mutual_Information.ipynb",
      "provenance": [],
      "collapsed_sections": [],
      "authorship_tag": "ABX9TyOh0hO2KGPP+qdsf0rRtVX0",
      "include_colab_link": true
    },
    "kernelspec": {
      "name": "python3",
      "display_name": "Python 3"
    },
    "language_info": {
      "name": "python"
    }
  },
  "cells": [
    {
      "cell_type": "markdown",
      "metadata": {
        "id": "view-in-github",
        "colab_type": "text"
      },
      "source": [
        "<a href=\"https://colab.research.google.com/github/Ditsuhi/Nitrogen_Dioxide_Prediction/blob/main/Mutual_Information.ipynb\" target=\"_parent\"><img src=\"https://colab.research.google.com/assets/colab-badge.svg\" alt=\"Open In Colab\"/></a>"
      ]
    },
    {
      "cell_type": "code",
      "execution_count": null,
      "metadata": {
        "id": "CtELokeHIyin"
      },
      "outputs": [],
      "source": [
        "from sklearn.model_selection import train_test_split\n",
        "import numpy as np\n",
        "from sklearn.datasets import make_regression\n",
        "from sklearn.model_selection import train_test_split\n",
        "from sklearn.feature_selection import SelectKBest\n",
        "from sklearn.feature_selection import mutual_info_regression\n",
        "from matplotlib import pyplot\n"
      ]
    },
    {
      "cell_type": "code",
      "source": [
        "#create dependent and independent variables from our dataset (target variable-nitrogen dioxide, independent variable-the rest of the features)\n",
        "\n",
        "\n",
        "X=data.drop(['NO2'], axis=1)\n",
        "y = data['NO2']\n",
        "\n",
        "#after determining X and y, to implement mutual information, it is necessary to create training and test sets\n",
        "x_train, x_test, y_train, y_test = train_test_split(X, y, test_size=0.2, shuffle = False)\n",
        "\n",
        "# calculate mutual information feature selection for numerical input data\n",
        "# feature selection\n",
        "def select_features(x_train, y_train, x_test):\n",
        "\t# configure to select all features\n",
        "\tfs = SelectKBest(score_func=mutual_info_regression, k='all')\n",
        "\t# learn relationship from training data\n",
        "\tfs.fit(x_train, y_train)\n",
        "\t# transform train input data\n",
        "\tx_train_fs = fs.transform(x_train)\n",
        "\t# transform test input data\n",
        "\tx_test_fs = fs.transform(x_test)\n",
        "\treturn x_train_fs, x_test_fs, fs\n",
        "\n",
        "\n",
        "x_train_fs, x_test_fs, fs = select_features(x_train, y_train, x_test)\n",
        "# what are scores for the features\n",
        "for i in range(len(fs.scores_)):\n",
        "\tprint('Feature %d: %f' % (i, fs.scores_[i]))\n"
      ],
      "metadata": {
        "id": "Qusa47axI8m_"
      },
      "execution_count": null,
      "outputs": []
    },
    {
      "cell_type": "code",
      "source": [
        "## plot the scores\n",
        "##creating list with X.columns\n",
        "bars  = ['Intens', 'Ocup', 'WS', ' Press', ' SR', ' Temp', ' Hum',  'E', 'N', 'NE',  'NW', 'S',  'SE', 'SW',  'W']\n",
        "y_pos = np.arange(len(bars))\n",
        "pyplot.bar([i for i in range(len(fs.scores_))], fs.scores_)\n",
        "pyplot.xticks(y_pos, bars,  rotation=45,  horizontalalignment='right')\n",
        "pyplot.savefig('mutInfo.pdf')\n",
        "pyplot.show()"
      ],
      "metadata": {
        "id": "Br72dVduI-8-"
      },
      "execution_count": null,
      "outputs": []
    },
    {
      "cell_type": "code",
      "source": [
        ""
      ],
      "metadata": {
        "id": "o6ih4pcGJBWP"
      },
      "execution_count": null,
      "outputs": []
    }
  ]
}